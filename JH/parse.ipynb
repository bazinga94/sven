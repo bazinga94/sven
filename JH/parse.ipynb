{
 "cells": [
  {
   "cell_type": "code",
   "execution_count": 1,
   "metadata": {},
   "outputs": [],
   "source": [
    "import sys\n",
    "import os"
   ]
  },
  {
   "cell_type": "code",
   "execution_count": 2,
   "metadata": {},
   "outputs": [],
   "source": [
    "# 현재 스크립트 파일의 디렉토리를 가져오기\n",
    "script_dir = os.path.dirname(os.path.abspath(\"parse.ipynb\"))\n",
    "\n",
    "# 상위 폴더의 경로 계산\n",
    "parent_dir = os.path.join(script_dir, '..')\n",
    "\n",
    "# 상위 폴더의 경로를 sys.path에 추가\n",
    "sys.path.append(parent_dir)"
   ]
  },
  {
   "cell_type": "code",
   "execution_count": 3,
   "metadata": {},
   "outputs": [
    {
     "name": "stderr",
     "output_type": "stream",
     "text": [
      "/Users/jongko/Library/Mobile Documents/com~apple~CloudDocs/Fall 2023/AI & Deep Learning Framework/Term Project/Code Generation/sven/.venv/lib/python3.7/site-packages/tqdm/auto.py:21: TqdmWarning: IProgress not found. Please update jupyter and ipywidgets. See https://ipywidgets.readthedocs.io/en/stable/user_install.html\n",
      "  from .autonotebook import tqdm as notebook_tqdm\n"
     ]
    }
   ],
   "source": [
    "# 이제 sven 폴더에 있는 utils.py를 import 할 수 있음\n",
    "from sven.utils import parse_diff"
   ]
  },
  {
   "cell_type": "code",
   "execution_count": null,
   "metadata": {},
   "outputs": [],
   "source": [
    "file_name = \"temp.py\"\n",
    "src_before = \"import numpy as np \\n\\n   def sum():\\n    arr = np.array([[1, 2, 3], [4, 5, 6]])\\n      result = np.sum(arr, axis=0)  # Sum in column direction (axis=0)\\n    print(result)\"\n",
    "src_after = \"import pandas as pd \\n\\n   def sum():\\n    df = pd.DataFrame([[1, 2, 3], [4, 5, 6]])\\n      result = df.sum(axis=0)  # Sum in column direction (axis=0)\\n    print(result)\"\n",
    "diff = \"\"\"\n",
    "@@ -4,2 +4,2 @@ def sum():\n",
    "\n",
    "-    arr = np.array([[1, 2, 3], [4, 5, 6]])\n",
    "+    df = pd.DataFrame([[1, 2, 3], [4, 5, 6]])\n",
    "\n",
    "\"\"\""
   ]
  },
  {
   "cell_type": "code",
   "execution_count": 39,
   "metadata": {},
   "outputs": [],
   "source": [
    "# result = parse_diff(file_name, src_before, src_after, diff)"
   ]
  },
  {
   "cell_type": "code",
   "execution_count": 40,
   "metadata": {},
   "outputs": [],
   "source": [
    "# If check the result, No \"vul_type\", \"commit_link\" otherwise, same.\n",
    "# print(result)"
   ]
  },
  {
   "cell_type": "code",
   "execution_count": 43,
   "metadata": {},
   "outputs": [],
   "source": [
    "file_name = \"temp.py\"\n",
    "numpy_code = \"\"\"\n",
    "import numpy as np \n",
    "\n",
    "def sum():\n",
    "    arr = np.array([[1, 2, 3], [4, 5, 6]])\n",
    "    result = np.sum(arr, axis=0)  # Sum in column direction (axis=0)\n",
    "    print(result)\n",
    "\"\"\"\n",
    "\n",
    "pandas_code = \"\"\"\n",
    "import pandas as pd \n",
    "\n",
    "def sum():\n",
    "    df = pd.DataFrame([[1, 2, 3], [4, 5, 6]])\n",
    "    result = df.sum(axis=0)  # Sum in column direction (axis=0)\n",
    "    print(result)\n",
    "\"\"\""
   ]
  },
  {
   "cell_type": "code",
   "execution_count": 44,
   "metadata": {},
   "outputs": [
    {
     "name": "stdout",
     "output_type": "stream",
     "text": [
      "@@ -1,8 +1,8 @@\n",
      " \n",
      "-    import pandas as pd \n",
      "+import pandas as pd \n",
      " \n",
      " def sum():\n",
      "-    arr = np.array([[1, 2, 3], [4, 5, 6]])\n",
      "-    result = np.sum(arr, axis=0)  # Sum in column direction (axis=0)\n",
      "+    df = pd.DataFrame([[1, 2, 3], [4, 5, 6]])\n",
      "+    result = df.sum(axis=0)  # Sum in column direction (axis=0)\n",
      "     print(result)\n",
      " \n"
     ]
    }
   ],
   "source": [
    "import difflib\n",
    "\n",
    "# Using unified_diff\n",
    "\n",
    "# diff_result = difflib.unified_diff(numpy_code.splitlines(), pandas_code.splitlines(), fromfile='', tofile='', lineterm='', n=0)\n",
    "# diff_result = difflib.unified_diff(numpy_code.splitlines(), pandas_code.splitlines(), fromfile='', tofile='', lineterm='')\n",
    "diff_result = difflib.unified_diff(numpy_code.split('\\n'), pandas_code.split('\\n'), fromfile='', tofile='', lineterm='')\n",
    "\n",
    "next(diff_result)\n",
    "next(diff_result)\n",
    "\n",
    "diff = '\\n'.join(diff_result)\n",
    "\n",
    "print(diff)"
   ]
  },
  {
   "cell_type": "markdown",
   "metadata": {},
   "source": [
    "# Generate diff"
   ]
  },
  {
   "cell_type": "code",
   "execution_count": 64,
   "metadata": {},
   "outputs": [],
   "source": [
    "import difflib\n",
    "\n",
    "def generate_diff(numpy_code, pandas_code):\n",
    "    diff_result = difflib.unified_diff(numpy_code.split('\\n'), pandas_code.split('\\n'), fromfile='', tofile='', lineterm='')\n",
    "\n",
    "    next(diff_result)\n",
    "    next(diff_result)\n",
    "\n",
    "    diff = '\\n'.join(diff_result)\n",
    "    return diff"
   ]
  },
  {
   "cell_type": "code",
   "execution_count": 13,
   "metadata": {},
   "outputs": [],
   "source": [
    "diff = generate_diff(numpy_code, pandas_code)"
   ]
  },
  {
   "cell_type": "code",
   "execution_count": 14,
   "metadata": {},
   "outputs": [],
   "source": [
    "result = parse_diff(file_name, numpy_code, pandas_code, diff)"
   ]
  },
  {
   "cell_type": "code",
   "execution_count": 15,
   "metadata": {},
   "outputs": [
    {
     "name": "stdout",
     "output_type": "stream",
     "text": [
      "[{'func_name': 'sum', 'func_src_before': 'def sum():\\n    arr = np.array([[1, 2, 3], [4, 5, 6]])\\n    result = np.sum(arr, axis=0)  # Sum in column direction (axis=0)\\n    print(result)', 'func_src_after': 'def sum():\\n    df = pd.DataFrame([[1, 2, 3], [4, 5, 6]])\\n    result = df.sum(axis=0)  # Sum in column direction (axis=0)\\n    print(result)', 'line_changes': {'deleted': [{'line_no': 2, 'char_start': 11, 'char_end': 54, 'line': '    arr = np.array([[1, 2, 3], [4, 5, 6]])\\n'}, {'line_no': 3, 'char_start': 54, 'char_end': 123, 'line': '    result = np.sum(arr, axis=0)  # Sum in column direction (axis=0)\\n'}], 'added': [{'line_no': 2, 'char_start': 11, 'char_end': 57, 'line': '    df = pd.DataFrame([[1, 2, 3], [4, 5, 6]])\\n'}, {'line_no': 3, 'char_start': 57, 'char_end': 121, 'line': '    result = df.sum(axis=0)  # Sum in column direction (axis=0)\\n'}]}, 'char_changes': {'deleted': [{'char_start': 15, 'char_end': 29, 'chars': 'arr = np.array'}, {'char_start': 67, 'char_end': 69, 'chars': 'np'}, {'char_start': 74, 'char_end': 79, 'chars': 'arr, '}], 'added': [{'char_start': 15, 'char_end': 32, 'chars': 'df = pd.DataFrame'}, {'char_start': 70, 'char_end': 72, 'chars': 'df'}]}}]\n"
     ]
    }
   ],
   "source": [
    "print(result)"
   ]
  },
  {
   "cell_type": "markdown",
   "metadata": {},
   "source": [
    "problem\n",
    "1. Comment, function name, and line space are also recognized as changes.\n",
    "2."
   ]
  },
  {
   "cell_type": "code",
   "execution_count": 16,
   "metadata": {},
   "outputs": [],
   "source": [
    "# numpy-main-test-parsed-functions.json"
   ]
  },
  {
   "cell_type": "code",
   "execution_count": 65,
   "metadata": {},
   "outputs": [],
   "source": [
    "import random\n",
    "import json"
   ]
  },
  {
   "cell_type": "code",
   "execution_count": 66,
   "metadata": {},
   "outputs": [
    {
     "name": "stdout",
     "output_type": "stream",
     "text": [
      "7138\n"
     ]
    }
   ],
   "source": [
    "json_file_path = 'numpy-main-test-parsed-functions.json'  \n",
    "\n",
    "with open(json_file_path, 'r') as file:\n",
    "    json_data = file.read()\n",
    "\n",
    "numpy_parsed_data = json.loads(json_data)\n",
    "\n",
    "print(len(numpy_parsed_data))"
   ]
  },
  {
   "cell_type": "code",
   "execution_count": 67,
   "metadata": {},
   "outputs": [
    {
     "name": "stdout",
     "output_type": "stream",
     "text": [
      "19520\n"
     ]
    }
   ],
   "source": [
    "json_file_path = 'pandas-main-test-parsed-functions.json'  \n",
    "\n",
    "with open(json_file_path, 'r') as file:\n",
    "    json_data = file.read()\n",
    "\n",
    "pandas_parsed_data = json.loads(json_data)\n",
    "\n",
    "print(len(pandas_parsed_data))"
   ]
  },
  {
   "cell_type": "code",
   "execution_count": 36,
   "metadata": {},
   "outputs": [],
   "source": [
    "import re\n",
    "\n",
    "def reduce_multiple_newlines(input_string):\n",
    "    return re.sub(r'\\n+', '\\n', input_string)\n",
    "\n",
    "def remove_comments_and_whitespace(code):\n",
    "    code_without_comments = re.sub(r'#.*$', '', code, flags=re.MULTILINE)\n",
    "    return code_without_comments"
   ]
  },
  {
   "cell_type": "code",
   "execution_count": 68,
   "metadata": {},
   "outputs": [
    {
     "name": "stdout",
     "output_type": "stream",
     "text": [
      "    def test_keepdims_out(self, q, axis):\n",
      "        d = np.ones((3, 5, 7, 11))\n",
      "        # Randomly set some elements to NaN:\n",
      "        w = np.random.random((4, 200)) * np.array(d.shape)[:, None]\n",
      "        w = w.astype(np.intp)\n",
      "        d[tuple(w)] = np.nan\n",
      "        if axis is None:\n",
      "            shape_out = (1,) * d.ndim\n",
      "        else:\n",
      "            axis_norm = normalize_axis_tuple(axis, d.ndim)\n",
      "            shape_out = tuple(\n",
      "                1 if i in axis_norm else d.shape[i] for i in range(d.ndim))\n",
      "        shape_out = np.shape(q) + shape_out\n",
      "        out = np.empty(shape_out)\n",
      "        result = np.nanpercentile(d, q, axis=axis, keepdims=True, out=out)\n",
      "        assert result is out\n",
      "        assert_equal(result.shape, shape_out)\n"
     ]
    }
   ],
   "source": [
    "all_values = list(numpy_parsed_data.values())\n",
    "\n",
    "one_numpy = all_values[random.randint(0, len(numpy_parsed_data) - 1)]\n",
    "\n",
    "one_numpy = reduce_multiple_newlines(one_numpy)\n",
    "\n",
    "print(one_numpy)"
   ]
  },
  {
   "cell_type": "code",
   "execution_count": 69,
   "metadata": {},
   "outputs": [
    {
     "name": "stdout",
     "output_type": "stream",
     "text": [
      "def by_row(request):\n",
      "    return request.param\n"
     ]
    }
   ],
   "source": [
    "all_values = list(pandas_parsed_data.values())\n",
    "\n",
    "one_pandas = all_values[random.randint(0, len(pandas_parsed_data) - 1)]\n",
    "\n",
    "one_pandas = reduce_multiple_newlines(one_pandas)\n",
    "\n",
    "print(one_pandas)"
   ]
  },
  {
   "cell_type": "code",
   "execution_count": 70,
   "metadata": {},
   "outputs": [],
   "source": [
    "file_name = \"temp.py\"\n",
    "src_before = one_pandas\n",
    "src_after = one_numpy\n",
    "diff = generate_diff(one_pandas, one_numpy)\n",
    "result = parse_diff(file_name, src_before, src_after, diff)"
   ]
  },
  {
   "cell_type": "code",
   "execution_count": 71,
   "metadata": {},
   "outputs": [
    {
     "name": "stdout",
     "output_type": "stream",
     "text": [
      "@@ -1,2 +1,17 @@\n",
      "-def by_row(request):\n",
      "-    return request.param\n",
      "+    def test_keepdims_out(self, q, axis):\n",
      "+        d = np.ones((3, 5, 7, 11))\n",
      "+        # Randomly set some elements to NaN:\n",
      "+        w = np.random.random((4, 200)) * np.array(d.shape)[:, None]\n",
      "+        w = w.astype(np.intp)\n",
      "+        d[tuple(w)] = np.nan\n",
      "+        if axis is None:\n",
      "+            shape_out = (1,) * d.ndim\n",
      "+        else:\n",
      "+            axis_norm = normalize_axis_tuple(axis, d.ndim)\n",
      "+            shape_out = tuple(\n",
      "+                1 if i in axis_norm else d.shape[i] for i in range(d.ndim))\n",
      "+        shape_out = np.shape(q) + shape_out\n",
      "+        out = np.empty(shape_out)\n",
      "+        result = np.nanpercentile(d, q, axis=axis, keepdims=True, out=out)\n",
      "+        assert result is out\n",
      "+        assert_equal(result.shape, shape_out)\n"
     ]
    }
   ],
   "source": [
    "print(diff)"
   ]
  },
  {
   "cell_type": "code",
   "execution_count": 72,
   "metadata": {},
   "outputs": [
    {
     "name": "stdout",
     "output_type": "stream",
     "text": [
      "[{'func_name': 'by_row', 'func_src_before': 'def by_row(request):\\n    return request.param', 'func_src_after': '    def test_keepdims_out(self, q, axis):\\n        d = np.ones((3, 5, 7, 11))\\n        # Randomly set some elements to NaN:\\n        w = np.random.random((4, 200)) * np.array(d.shape)[:, None]\\n        w = w.astype(np.intp)\\n        d[tuple(w)] = np.nan\\n        if axis is None:\\n            shape_out = (1,) * d.ndim\\n        else:\\n            axis_norm = normalize_axis_tuple(axis, d.ndim)\\n            shape_out = tuple(\\n                1 if i in axis_norm else d.shape[i] for i in range(d.ndim))\\n        shape_out = np.shape(q) + shape_out\\n        out = np.empty(shape_out)\\n        result = np.nanpercentile(d, q, axis=axis, keepdims=True, out=out)\\n        assert result is out\\n        assert_equal(result.shape, shape_out)', 'line_changes': {'deleted': [{'line_no': 1, 'char_start': 0, 'char_end': 21, 'line': 'def by_row(request):\\n'}], 'added': [{'line_no': 1, 'char_start': 0, 'char_end': 42, 'line': '    def test_keepdims_out(self, q, axis):\\n'}, {'line_no': 2, 'char_start': 42, 'char_end': 77, 'line': '        d = np.ones((3, 5, 7, 11))\\n'}, {'line_no': 4, 'char_start': 122, 'char_end': 190, 'line': '        w = np.random.random((4, 200)) * np.array(d.shape)[:, None]\\n'}, {'line_no': 5, 'char_start': 190, 'char_end': 220, 'line': '        w = w.astype(np.intp)\\n'}, {'line_no': 6, 'char_start': 220, 'char_end': 249, 'line': '        d[tuple(w)] = np.nan\\n'}, {'line_no': 7, 'char_start': 249, 'char_end': 274, 'line': '        if axis is None:\\n'}, {'line_no': 8, 'char_start': 274, 'char_end': 312, 'line': '            shape_out = (1,) * d.ndim\\n'}, {'line_no': 9, 'char_start': 312, 'char_end': 326, 'line': '        else:\\n'}, {'line_no': 10, 'char_start': 326, 'char_end': 385, 'line': '            axis_norm = normalize_axis_tuple(axis, d.ndim)\\n'}, {'line_no': 11, 'char_start': 385, 'char_end': 416, 'line': '            shape_out = tuple(\\n'}, {'line_no': 12, 'char_start': 416, 'char_end': 492, 'line': '                1 if i in axis_norm else d.shape[i] for i in range(d.ndim))\\n'}, {'line_no': 13, 'char_start': 492, 'char_end': 536, 'line': '        shape_out = np.shape(q) + shape_out\\n'}, {'line_no': 14, 'char_start': 536, 'char_end': 570, 'line': '        out = np.empty(shape_out)\\n'}, {'line_no': 15, 'char_start': 570, 'char_end': 645, 'line': '        result = np.nanpercentile(d, q, axis=axis, keepdims=True, out=out)\\n'}, {'line_no': 16, 'char_start': 645, 'char_end': 674, 'line': '        assert result is out\\n'}, {'line_no': 17, 'char_start': 674, 'char_end': 719, 'line': '        assert_equal(result.shape, shape_out)'}]}, 'char_changes': {'deleted': [{'char_start': 0, 'char_end': 45, 'chars': 'def by_row(request):\\n    return request.param'}], 'added': [{'char_start': 0, 'char_end': 719, 'chars': '    def test_keepdims_out(self, q, axis):\\n        d = np.ones((3, 5, 7, 11))\\n        # Randomly set some elements to NaN:\\n        w = np.random.random((4, 200)) * np.array(d.shape)[:, None]\\n        w = w.astype(np.intp)\\n        d[tuple(w)] = np.nan\\n        if axis is None:\\n            shape_out = (1,) * d.ndim\\n        else:\\n            axis_norm = normalize_axis_tuple(axis, d.ndim)\\n            shape_out = tuple(\\n                1 if i in axis_norm else d.shape[i] for i in range(d.ndim))\\n        shape_out = np.shape(q) + shape_out\\n        out = np.empty(shape_out)\\n        result = np.nanpercentile(d, q, axis=axis, keepdims=True, out=out)\\n        assert result is out\\n        assert_equal(result.shape, shape_out)'}]}}]\n"
     ]
    }
   ],
   "source": [
    "print(result)"
   ]
  },
  {
   "cell_type": "code",
   "execution_count": null,
   "metadata": {},
   "outputs": [],
   "source": []
  },
  {
   "cell_type": "code",
   "execution_count": 46,
   "metadata": {},
   "outputs": [],
   "source": [
    "numpy_code = \"\"\"\n",
    "import numpy as np\n",
    "\n",
    "def calculate_row_means_numpy(matrix):\n",
    "    # Calculate the mean of each row in the matrix\n",
    "    row_means = np.mean(matrix, axis=1)\n",
    "    \n",
    "    # Extract rows where the mean is greater than 0.5\n",
    "    selected_rows = matrix[row_means > 0.5]\n",
    "\n",
    "    # Return the extracted rows and the mean of each row\n",
    "    return selected_rows, row_means\n",
    "\"\"\"\n",
    "\n",
    "pandas_code = \"\"\"\n",
    "import pandas as pd\n",
    "\n",
    "def calculate_row_means_pandas(df):\n",
    "    # Calculate the mean of each row in the DataFrame\n",
    "    row_means = df.mean(axis=1)\n",
    "\n",
    "    # Extract rows where the mean is greater than 0.5\n",
    "    mean_condition = df.mean(axis=1) > 0.5\n",
    "    selected_rows = df[mean_condition]\n",
    "\n",
    "    # Return the extracted rows and the mean of each row\n",
    "    return selected_rows, row_means\n",
    "\"\"\""
   ]
  },
  {
   "cell_type": "code",
   "execution_count": 76,
   "metadata": {},
   "outputs": [],
   "source": [
    "import ast\n",
    "import astunparse\n",
    "\n",
    "def parse_code(code):\n",
    "    return ast.parse(code)\n",
    "\n",
    "def extract_function_info(ast_tree):\n",
    "    functions = []\n",
    "    for node in ast.walk(ast_tree):\n",
    "        if isinstance(node, ast.FunctionDef):\n",
    "            function_info = {\n",
    "                'name': node.name,\n",
    "                'args': [arg.arg for arg in node.args.args],\n",
    "                'body': astunparse.unparse(node).strip().split('\\n'),\n",
    "            }\n",
    "            functions.append(function_info)\n",
    "    return functions\n",
    "\n",
    "numpy_ast = parse_code(numpy_code)\n",
    "pandas_ast = parse_code(pandas_code)\n",
    "\n",
    "numpy_functions = extract_function_info(numpy_ast)\n",
    "pandas_functions = extract_function_info(pandas_ast)"
   ]
  },
  {
   "cell_type": "code",
   "execution_count": 77,
   "metadata": {},
   "outputs": [
    {
     "data": {
      "text/plain": [
       "[{'name': 'calculate_row_means_numpy',\n",
       "  'args': ['matrix'],\n",
       "  'body': ['def calculate_row_means_numpy(matrix):',\n",
       "   '    row_means = np.mean(matrix, axis=1)',\n",
       "   '    selected_rows = matrix[(row_means > 0.5)]',\n",
       "   '    return (selected_rows, row_means)']}]"
      ]
     },
     "execution_count": 77,
     "metadata": {},
     "output_type": "execute_result"
    }
   ],
   "source": [
    "numpy_functions"
   ]
  },
  {
   "cell_type": "code",
   "execution_count": 78,
   "metadata": {},
   "outputs": [
    {
     "data": {
      "text/plain": [
       "[{'name': 'calculate_row_means_pandas',\n",
       "  'args': ['df'],\n",
       "  'body': ['def calculate_row_means_pandas(df):',\n",
       "   '    row_means = df.mean(axis=1)',\n",
       "   '    mean_condition = (df.mean(axis=1) > 0.5)',\n",
       "   '    selected_rows = df[mean_condition]',\n",
       "   '    return (selected_rows, row_means)']}]"
      ]
     },
     "execution_count": 78,
     "metadata": {},
     "output_type": "execute_result"
    }
   ],
   "source": [
    "pandas_functions"
   ]
  },
  {
   "cell_type": "code",
   "execution_count": 79,
   "metadata": {},
   "outputs": [
    {
     "data": {
      "text/plain": [
       "['def calculate_row_means_numpy(matrix):',\n",
       " '    row_means = np.mean(matrix, axis=1)',\n",
       " '    selected_rows = matrix[(row_means > 0.5)]',\n",
       " '    return (selected_rows, row_means)']"
      ]
     },
     "execution_count": 79,
     "metadata": {},
     "output_type": "execute_result"
    }
   ],
   "source": [
    "numpy_functions[0]['body']"
   ]
  },
  {
   "cell_type": "code",
   "execution_count": null,
   "metadata": {},
   "outputs": [],
   "source": []
  },
  {
   "cell_type": "code",
   "execution_count": null,
   "metadata": {},
   "outputs": [],
   "source": []
  },
  {
   "cell_type": "code",
   "execution_count": null,
   "metadata": {},
   "outputs": [],
   "source": []
  },
  {
   "cell_type": "code",
   "execution_count": null,
   "metadata": {},
   "outputs": [],
   "source": []
  },
  {
   "cell_type": "code",
   "execution_count": null,
   "metadata": {},
   "outputs": [],
   "source": [
    "# import difflib\n",
    "\n",
    "# numpy_code = \"\"\"\\\n",
    "# import numpy as np \n",
    "\n",
    "# def sum():\n",
    "#     arr = np.array([[1, 2, 3], [4, 5, 6]])\n",
    "#     result = np.sum(arr, axis=0)  # Sum in column direction (axis=0)\n",
    "#     print(result)\n",
    "# \"\"\"\n",
    "\n",
    "# pandas_code = \"\"\"\\\n",
    "# import pandas as pd \n",
    "\n",
    "# def sum():\n",
    "#     df = pd.DataFrame([[1, 2, 3], [4, 5, 6]])\n",
    "#     result = df.sum(axis=0)  # Sum in column direction (axis=0)\n",
    "#     print(result)\n",
    "# \"\"\"\n",
    "\n",
    "# differ = difflib.Differ()\n",
    "# diff = differ.compare(numpy_code.splitlines(), pandas_code.splitlines())\n",
    "\n",
    "# # 변경된 부분만 추출\n",
    "# changed_lines = [line[2:] for line in diff if line.startswith('+ ') or line.startswith('- ')]\n",
    "# for line in changed_lines:\n",
    "#     print(line)\n",
    "\n",
    "# print(changed_lines)"
   ]
  },
  {
   "cell_type": "code",
   "execution_count": null,
   "metadata": {},
   "outputs": [],
   "source": []
  },
  {
   "cell_type": "code",
   "execution_count": null,
   "metadata": {},
   "outputs": [],
   "source": []
  }
 ],
 "metadata": {
  "kernelspec": {
   "display_name": ".venv",
   "language": "python",
   "name": "python3"
  },
  "language_info": {
   "codemirror_mode": {
    "name": "ipython",
    "version": 3
   },
   "file_extension": ".py",
   "mimetype": "text/x-python",
   "name": "python",
   "nbconvert_exporter": "python",
   "pygments_lexer": "ipython3",
   "version": "3.7.1"
  }
 },
 "nbformat": 4,
 "nbformat_minor": 2
}
