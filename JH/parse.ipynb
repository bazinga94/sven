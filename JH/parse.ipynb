{
 "cells": [
  {
   "cell_type": "code",
   "execution_count": 8,
   "metadata": {},
   "outputs": [],
   "source": [
    "import sys\n",
    "import os"
   ]
  },
  {
   "cell_type": "code",
   "execution_count": 10,
   "metadata": {},
   "outputs": [
    {
     "name": "stderr",
     "output_type": "stream",
     "text": [
      "/Users/jongko/Library/Mobile Documents/com~apple~CloudDocs/Fall 2023/AI & Deep Learning Framework/Term Project/Code Generation/sven/.venv/lib/python3.7/site-packages/tqdm/auto.py:21: TqdmWarning: IProgress not found. Please update jupyter and ipywidgets. See https://ipywidgets.readthedocs.io/en/stable/user_install.html\n",
      "  from .autonotebook import tqdm as notebook_tqdm\n"
     ]
    }
   ],
   "source": [
    "# 현재 스크립트 파일의 디렉토리를 가져오기\n",
    "script_dir = os.path.dirname(os.path.abspath(\"parse.ipynb\"))\n",
    "\n",
    "# 상위 폴더의 경로 계산\n",
    "parent_dir = os.path.join(script_dir, '..')\n",
    "\n",
    "# 상위 폴더의 경로를 sys.path에 추가\n",
    "sys.path.append(parent_dir)\n",
    "\n"
   ]
  },
  {
   "cell_type": "code",
   "execution_count": 14,
   "metadata": {},
   "outputs": [],
   "source": [
    "# 이제 sven 폴더에 있는 utils.py를 import 할 수 있음\n",
    "from sven.utils import parse_diff"
   ]
  },
  {
   "cell_type": "code",
   "execution_count": null,
   "metadata": {},
   "outputs": [],
   "source": [
    "file_name = \"temp.py\"\n",
    "src_before = \"import numpy as np \\n\\n   def sum():\\n    arr = np.array([[1, 2, 3], [4, 5, 6]])\\n      result = np.sum(arr, axis=0)  # Sum in column direction (axis=0)\\n    print(result)\"\n",
    "src_after = \"import pandas as pd \\n\\n   def sum():\\n    df = pd.DataFrame([[1, 2, 3], [4, 5, 6]])\\n      result = df.sum(axis=0)  # Sum in column direction (axis=0)\\n    print(result)\"\n",
    "diff = \"\"\"\n",
    "@@ -4,2 +4,2 @@ def sum():\n",
    "\n",
    "-    arr = np.array([[1, 2, 3], [4, 5, 6]])\n",
    "+    df = pd.DataFrame([[1, 2, 3], [4, 5, 6]])\n",
    "\n",
    "\"\"\""
   ]
  },
  {
   "cell_type": "code",
   "execution_count": 15,
   "metadata": {},
   "outputs": [],
   "source": [
    "result = parse_diff(file_name, src_before, src_after, diff)"
   ]
  },
  {
   "cell_type": "code",
   "execution_count": 16,
   "metadata": {},
   "outputs": [
    {
     "name": "stdout",
     "output_type": "stream",
     "text": [
      "[{'func_name': 'build_board', 'func_src_before': 'def build_board(conn, game,size):\\n    # we\\'ll build the empty board, and then fill in with the move list that\\n    # we get from the DB.\\n    board = []\\n    for i in range(size):\\n        board.append([\"\"]*size)\\n\\n\\n    # search for all moves that have happenend during this game.\\n    cursor = conn.cursor()\\n    cursor.execute(\"SELECT x,y,letter FROM moves WHERE gameID = %d;\" % game)\\n\\n    counts = {\"X\":0, \"O\":0}\\n    for move in cursor.fetchall():\\n        (x,y,letter) = move\\n\\n        x = int(x)\\n        y = int(y)\\n        assert x >= 0 and x < size\\n        assert y >= 0 and y < size\\n\\n        assert letter in \"XO\"\\n\\n        assert board[x][y] == \"\"\\n        board[x][y] = letter\\n\\n        counts[letter] += 1\\n\\n    cursor.close()\\n\\n    assert counts[\"X\"] >= counts[\"O\"]\\n    assert counts[\"X\"] <= counts[\"O\"]+1\\n\\n    if counts[\"X\"] == counts[\"O\"]:\\n        nextPlayer = 0\\n    else:\\n        nextPlayer = 1\\n    letter = \"XO\"[nextPlayer]\\n\\n    return (board,nextPlayer,letter)', 'func_src_after': 'def build_board(conn, game,size):\\n    # we\\'ll build the empty board, and then fill in with the move list that\\n    # we get from the DB.\\n    board = []\\n    for i in range(size):\\n        board.append([\"\"]*size)\\n\\n\\n    # search for all moves that have happenend during this game.\\n    cursor = conn.cursor()\\n    cursor.execute(\"SELECT x,y,letter FROM moves WHERE gameID = %d;\", (game,))\\n\\n    counts = {\"X\":0, \"O\":0}\\n    for move in cursor.fetchall():\\n        (x,y,letter) = move\\n\\n        x = int(x)\\n        y = int(y)\\n        assert x >= 0 and x < size\\n        assert y >= 0 and y < size\\n\\n        assert letter in \"XO\"\\n\\n        assert board[x][y] == \"\"\\n        board[x][y] = letter\\n\\n        counts[letter] += 1\\n\\n    cursor.close()\\n\\n    assert counts[\"X\"] >= counts[\"O\"]\\n    assert counts[\"X\"] <= counts[\"O\"]+1\\n\\n    if counts[\"X\"] == counts[\"O\"]:\\n        nextPlayer = 0\\n    else:\\n        nextPlayer = 1\\n    letter = \"XO\"[nextPlayer]\\n\\n    return (board,nextPlayer,letter)', 'line_changes': {'deleted': [{'line_no': 32, 'char_start': 763, 'char_end': 803, 'line': '    cursor.execute(\"SELECT x,y,letter FROM moves WHERE gameID = %d;\" % game)\\n'}], 'added': [{'line_no': 32, 'char_start': 765, 'char_end': 805, 'line': '    cursor.execute(\"SELECT x,y,letter FROM moves WHERE gameID = %d;\", (game,))\\n'}]}, 'char_changes': {'deleted': [{'char_start': 371, 'char_end': 374, 'chars': ' % '}], 'added': [{'char_start': 371, 'char_end': 374, 'chars': ', ('}, {'char_start': 378, 'char_end': 380, 'chars': ',)'}]}}]\n"
     ]
    }
   ],
   "source": [
    "# If check the result, No \"vul_type\", \"commit_link\" otherwise, same.\n",
    "print(result)"
   ]
  },
  {
   "cell_type": "code",
   "execution_count": 73,
   "metadata": {},
   "outputs": [],
   "source": [
    "file_name = \"temp.py\"\n",
    "numpy_code = \"\"\"\n",
    "import numpy as np \n",
    "\n",
    "def sum():\n",
    "    arr = np.array([[1, 2, 3], [4, 5, 6]])\n",
    "    result = np.sum(arr, axis=0)  # Sum in column direction (axis=0)\n",
    "    print(result)\n",
    "\"\"\"\n",
    "\n",
    "pandas_code = \"\"\"\n",
    "import pandas as pd \n",
    "\n",
    "def sum():\n",
    "    df = pd.DataFrame([[1, 2, 3], [4, 5, 6]])\n",
    "    result = df.sum(axis=0)  # Sum in column direction (axis=0)\n",
    "    print(result)\n",
    "\"\"\""
   ]
  },
  {
   "cell_type": "code",
   "execution_count": 74,
   "metadata": {},
   "outputs": [
    {
     "name": "stdout",
     "output_type": "stream",
     "text": [
      "--- \n",
      "+++ \n",
      "@@ -1,8 +1,17 @@\n",
      " \n",
      "-import numpy as np \n",
      "+import pandas as pd \n",
      " \n",
      "+# comment test\n",
      " def sum():\n",
      "-    arr = np.array([[1, 2, 3], [4, 5, 6]])\n",
      "-    result = np.sum(arr, axis=0)  # Sum in column direction (axis=0)\n",
      "+    # comment test\n",
      "+\n",
      "+\n",
      "+\n",
      "+    \n",
      "+    printtttt()\n",
      "+    # comment test\n",
      "+    df = pd.DataFrame([[1, 2, 3], [4, 5, 6]])\n",
      "+    result = df.sum(axis=0)  # Sum in column direction (axis=0)\n",
      "+    # comment test\n",
      "     print(result)\n",
      " \n",
      "=================\n",
      "\n"
     ]
    }
   ],
   "source": [
    "import difflib\n",
    "\n",
    "# Using unified_diff\n",
    "# diff_result = difflib.unified_diff(numpy_code.splitlines(), pandas_code.splitlines(), fromfile='', tofile='', lineterm='', n=0)\n",
    "# diff_result = difflib.unified_diff(numpy_code.splitlines(), pandas_code.splitlines(), fromfile='', tofile='', lineterm='')\n",
    "diff_result = difflib.unified_diff(numpy_code.split('\\n'), pandas_code.split('\\n'), fromfile='', tofile='', lineterm='')\n",
    "\n",
    "diff = '\\n'.join(diff_result)\n",
    "\n",
    "# +++와 --- 라인을 필터링하여 출력\n",
    "filtered_diff = '\\n'.join(line for line in diff_result if not line.startswith(('+++', '---')))\n",
    "\n",
    "print(diff)\n",
    "print(\"=================\")\n",
    "print(filtered_diff)\n",
    "\n",
    "for diff in diff_result:\n",
    "    print(diff)"
   ]
  },
  {
   "cell_type": "code",
   "execution_count": 75,
   "metadata": {},
   "outputs": [],
   "source": [
    "result = parse_diff(file_name, numpy_code, pandas_code, diff)"
   ]
  },
  {
   "cell_type": "code",
   "execution_count": 76,
   "metadata": {},
   "outputs": [
    {
     "name": "stdout",
     "output_type": "stream",
     "text": [
      "[{'func_name': 'sum', 'func_src_before': 'def sum():\\n    arr = np.array([[1, 2, 3], [4, 5, 6]])\\n    result = np.sum(arr, axis=0)  # Sum in column direction (axis=0)\\n    print(result)', 'func_src_after': 'def sum():\\n    # comment test\\n\\n\\n\\n    \\n    printtttt()\\n    # comment test\\n    df = pd.DataFrame([[1, 2, 3], [4, 5, 6]])\\n    result = df.sum(axis=0)  # Sum in column direction (axis=0)\\n    # comment test\\n    print(result)', 'line_changes': {'deleted': [{'line_no': 2, 'char_start': 11, 'char_end': 54, 'line': '    arr = np.array([[1, 2, 3], [4, 5, 6]])\\n'}, {'line_no': 3, 'char_start': 54, 'char_end': 123, 'line': '    result = np.sum(arr, axis=0)  # Sum in column direction (axis=0)\\n'}], 'added': [{'line_no': 3, 'char_start': 30, 'char_end': 31, 'line': '\\n'}, {'line_no': 4, 'char_start': 31, 'char_end': 32, 'line': '\\n'}, {'line_no': 5, 'char_start': 32, 'char_end': 33, 'line': '\\n'}, {'line_no': 6, 'char_start': 33, 'char_end': 38, 'line': '    \\n'}, {'line_no': 7, 'char_start': 38, 'char_end': 54, 'line': '    printtttt()\\n'}, {'line_no': 9, 'char_start': 73, 'char_end': 119, 'line': '    df = pd.DataFrame([[1, 2, 3], [4, 5, 6]])\\n'}, {'line_no': 10, 'char_start': 119, 'char_end': 183, 'line': '    result = df.sum(axis=0)  # Sum in column direction (axis=0)\\n'}]}, 'char_changes': {'deleted': [{'char_start': 15, 'char_end': 29, 'chars': 'arr = np.array'}, {'char_start': 67, 'char_end': 69, 'chars': 'np'}, {'char_start': 74, 'char_end': 79, 'chars': 'arr, '}], 'added': [{'char_start': 15, 'char_end': 94, 'chars': '# comment test\\n\\n\\n\\n    \\n    printtttt()\\n    # comment test\\n    df = pd.DataFrame'}, {'char_start': 132, 'char_end': 134, 'chars': 'df'}, {'char_start': 183, 'char_end': 202, 'chars': '    # comment test\\n'}]}}]\n"
     ]
    }
   ],
   "source": [
    "print(result)"
   ]
  },
  {
   "cell_type": "markdown",
   "metadata": {},
   "source": [
    "문제점\n",
    "1. comment 도 변경점으로 인식함\n",
    "2. 라인별 변경 점으로 인식을 해서(commit diff 처럼) \"\\n\" 이나 주석 같은것도 전부 변경점으로 인식해버림"
   ]
  },
  {
   "cell_type": "code",
   "execution_count": null,
   "metadata": {},
   "outputs": [],
   "source": []
  },
  {
   "cell_type": "code",
   "execution_count": null,
   "metadata": {},
   "outputs": [],
   "source": []
  },
  {
   "cell_type": "code",
   "execution_count": null,
   "metadata": {},
   "outputs": [],
   "source": []
  },
  {
   "cell_type": "code",
   "execution_count": null,
   "metadata": {},
   "outputs": [],
   "source": []
  },
  {
   "cell_type": "code",
   "execution_count": null,
   "metadata": {},
   "outputs": [],
   "source": []
  },
  {
   "cell_type": "code",
   "execution_count": 64,
   "metadata": {},
   "outputs": [],
   "source": [
    "# import difflib\n",
    "\n",
    "# numpy_code = \"\"\"\\\n",
    "# import numpy as np \n",
    "\n",
    "# def sum():\n",
    "#     arr = np.array([[1, 2, 3], [4, 5, 6]])\n",
    "#     result = np.sum(arr, axis=0)  # Sum in column direction (axis=0)\n",
    "#     print(result)\n",
    "# \"\"\"\n",
    "\n",
    "# pandas_code = \"\"\"\\\n",
    "# import pandas as pd \n",
    "\n",
    "# def sum():\n",
    "#     df = pd.DataFrame([[1, 2, 3], [4, 5, 6]])\n",
    "#     result = df.sum(axis=0)  # Sum in column direction (axis=0)\n",
    "#     print(result)\n",
    "# \"\"\"\n",
    "\n",
    "# differ = difflib.Differ()\n",
    "# diff = differ.compare(numpy_code.splitlines(), pandas_code.splitlines())\n",
    "\n",
    "# # 변경된 부분만 추출\n",
    "# changed_lines = [line[2:] for line in diff if line.startswith('+ ') or line.startswith('- ')]\n",
    "# for line in changed_lines:\n",
    "#     print(line)\n",
    "\n",
    "# print(changed_lines)"
   ]
  },
  {
   "cell_type": "code",
   "execution_count": null,
   "metadata": {},
   "outputs": [],
   "source": []
  },
  {
   "cell_type": "code",
   "execution_count": null,
   "metadata": {},
   "outputs": [],
   "source": []
  }
 ],
 "metadata": {
  "kernelspec": {
   "display_name": ".venv",
   "language": "python",
   "name": "python3"
  },
  "language_info": {
   "codemirror_mode": {
    "name": "ipython",
    "version": 3
   },
   "file_extension": ".py",
   "mimetype": "text/x-python",
   "name": "python",
   "nbconvert_exporter": "python",
   "pygments_lexer": "ipython3",
   "version": "3.7.1"
  }
 },
 "nbformat": 4,
 "nbformat_minor": 2
}
