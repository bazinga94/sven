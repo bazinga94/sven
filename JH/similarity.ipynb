{
 "cells": [
  {
   "cell_type": "code",
   "execution_count": 1,
   "metadata": {},
   "outputs": [],
   "source": [
    "numpy_code = numpy_code = \"\"\"\\\n",
    "import numpy as np \n",
    "\n",
    "def sum():\n",
    "    arr = np.array([[1, 2, 3], [4, 5, 6]])\n",
    "    result = np.sum(arr, axis=0)  # Sum in column direction (axis=0)\n",
    "    print(result)\n",
    "\"\"\"\n",
    "\n",
    "pandas_code = \"\"\"\\\n",
    "import pandas as pd \n",
    "\n",
    "def sum():\n",
    "    df = pd.DataFrame([[1, 2, 3], [4, 5, 6]])\n",
    "    result = df.sum(axis=0)  # Sum in column direction (axis=0)\n",
    "    print(result)\n",
    "\"\"\"\n"
   ]
  },
  {
   "cell_type": "code",
   "execution_count": 26,
   "metadata": {},
   "outputs": [],
   "source": [
    "numpy_code = \"\"\"\n",
    "import numpy as np\n",
    "\n",
    "def calculate_row_means_numpy(matrix):\n",
    "    # Calculate the mean of each row in the matrix\n",
    "    row_means = np.mean(matrix, axis=1)\n",
    "    \n",
    "    # Extract rows where the mean is greater than 0.5\n",
    "    selected_rows = matrix[row_means > 0.5]\n",
    "\n",
    "    # Return the extracted rows and the mean of each row\n",
    "    return selected_rows, row_means\n",
    "\"\"\"\n",
    "\n",
    "# pandas_code = \"\"\"\n",
    "# import pandas as pd\n",
    "\n",
    "# def calculate_row_means_pandas(df):\n",
    "#     # Calculate the mean of each row in the DataFrame\n",
    "#     row_means = df.mean(axis=1)\n",
    "\n",
    "#     # Extract rows where the mean is greater than 0.5\n",
    "#     selected_rows = df[df.mean(axis=1) > 0.5]\n",
    "\n",
    "#     # Return the extracted rows and the mean of each row\n",
    "#     return selected_rows, row_means\n",
    "# \"\"\"\n",
    "pandas_code = \"\"\"\n",
    "import pandas as pd\n",
    "\n",
    "def calculate_row_means_pandas(df):\n",
    "    # Calculate the mean of each row in the DataFrame\n",
    "    row_means = df.mean(axis=1)\n",
    "\n",
    "    # Extract rows where the mean is greater than 0.5\n",
    "    mean_condition = df.mean(axis=1) > 0.5\n",
    "    selected_rows = df[mean_condition]\n",
    "\n",
    "    # Return the extracted rows and the mean of each row\n",
    "    return selected_rows, row_means\n",
    "\"\"\""
   ]
  },
  {
   "cell_type": "code",
   "execution_count": 27,
   "metadata": {},
   "outputs": [],
   "source": [
    "import ast\n",
    "\n",
    "def parse_code(code):\n",
    "    return ast.parse(code)\n",
    "\n",
    "\n",
    "numpy_ast = parse_code(numpy_code)\n",
    "pandas_ast = parse_code(pandas_code)"
   ]
  },
  {
   "cell_type": "code",
   "execution_count": 28,
   "metadata": {},
   "outputs": [],
   "source": [
    "# pip install astunparse"
   ]
  },
  {
   "cell_type": "code",
   "execution_count": 29,
   "metadata": {},
   "outputs": [],
   "source": [
    "import astunparse\n",
    "\n",
    "def extract_function_info(ast_tree):\n",
    "    functions = []\n",
    "    for node in ast.walk(ast_tree):\n",
    "        if isinstance(node, ast.FunctionDef):\n",
    "            function_info = {\n",
    "                'name': node.name,\n",
    "                'args': [arg.arg for arg in node.args.args],\n",
    "                'body': astunparse.unparse(node).strip(),\n",
    "            }\n",
    "            functions.append(function_info)\n",
    "    return functions\n",
    "\n",
    "numpy_functions = extract_function_info(numpy_ast)\n",
    "pandas_functions = extract_function_info(pandas_ast)"
   ]
  },
  {
   "cell_type": "code",
   "execution_count": 30,
   "metadata": {},
   "outputs": [
    {
     "data": {
      "text/plain": [
       "[{'name': 'calculate_row_means_numpy',\n",
       "  'args': ['matrix'],\n",
       "  'body': 'def calculate_row_means_numpy(matrix):\\n    row_means = np.mean(matrix, axis=1)\\n    selected_rows = matrix[(row_means > 0.5)]\\n    return (selected_rows, row_means)'}]"
      ]
     },
     "execution_count": 30,
     "metadata": {},
     "output_type": "execute_result"
    }
   ],
   "source": [
    "numpy_functions"
   ]
  },
  {
   "cell_type": "code",
   "execution_count": 31,
   "metadata": {},
   "outputs": [
    {
     "data": {
      "text/plain": [
       "[{'name': 'calculate_row_means_pandas',\n",
       "  'args': ['df'],\n",
       "  'body': 'def calculate_row_means_pandas(df):\\n    row_means = df.mean(axis=1)\\n    mean_condition = (df.mean(axis=1) > 0.5)\\n    selected_rows = df[mean_condition]\\n    return (selected_rows, row_means)'}]"
      ]
     },
     "execution_count": 31,
     "metadata": {},
     "output_type": "execute_result"
    }
   ],
   "source": [
    "pandas_functions"
   ]
  },
  {
   "cell_type": "code",
   "execution_count": 32,
   "metadata": {},
   "outputs": [],
   "source": [
    "# def find_similar_functions(code1, code2):\n",
    "#     ast1 = parse_code(code1)\n",
    "#     ast2 = parse_code(code2)\n",
    "\n",
    "#     functions1 = extract_function_info(ast1)\n",
    "#     functions2 = extract_function_info(ast2)\n",
    "\n",
    "#     similar_function_pairs = []\n",
    "\n",
    "#     for func1 in functions1:\n",
    "#         for func2 in functions2:\n",
    "#             if func1['name'] == func2['name'] and len(func1['args']) == len(func2['args']):\n",
    "#                 similar_function_pairs.append((func1, func2))\n",
    "\n",
    "#     return similar_function_pairs\n",
    "\n",
    "# similar_pairs = find_similar_functions(numpy_code, pandas_code)\n",
    "\n",
    "# for pair in similar_pairs:\n",
    "#     print(\"Function in numpy:\")\n",
    "#     print(pair[0])\n",
    "#     print(\"Function in pandas:\")\n",
    "#     print(pair[1])\n",
    "#     print(\"\\n\")"
   ]
  },
  {
   "cell_type": "code",
   "execution_count": 33,
   "metadata": {},
   "outputs": [
    {
     "name": "stdout",
     "output_type": "stream",
     "text": [
      "Function in numpy:\n",
      "{'name': 'calculate_row_means_numpy', 'args': ['matrix'], 'body': 'def calculate_row_means_numpy(matrix):\\n    row_means = np.mean(matrix, axis=1)\\n    selected_rows = matrix[(row_means > 0.5)]\\n    return (selected_rows, row_means)'}\n",
      "Function in pandas:\n",
      "{'name': 'calculate_row_means_pandas', 'args': ['df'], 'body': 'def calculate_row_means_pandas(df):\\n    row_means = df.mean(axis=1)\\n    mean_condition = (df.mean(axis=1) > 0.5)\\n    selected_rows = df[mean_condition]\\n    return (selected_rows, row_means)'}\n",
      "\n",
      "\n"
     ]
    }
   ],
   "source": [
    "def are_functions_similar(func1, func2):\n",
    "    # return func1['name'] == func2['name'] and func1['args'] == func2['args'] and func1['body'] == func2['body']     \n",
    "    return True     # Use our similarity function\n",
    "\n",
    "def find_similar_functions(code1, code2):\n",
    "    ast1 = parse_code(code1)\n",
    "    ast2 = parse_code(code2)\n",
    "\n",
    "    functions1 = extract_function_info(ast1)\n",
    "    functions2 = extract_function_info(ast2)\n",
    "\n",
    "    similar_function_pairs = []\n",
    "\n",
    "    for func1 in functions1:\n",
    "        for func2 in functions2:\n",
    "            if are_functions_similar(func1, func2):\n",
    "                similar_function_pairs.append((func1, func2))\n",
    "\n",
    "    return similar_function_pairs\n",
    "\n",
    "similar_pairs = find_similar_functions(numpy_code, pandas_code)\n",
    "\n",
    "for pair in similar_pairs:\n",
    "    print(\"Function in numpy:\")\n",
    "    print(pair[0])\n",
    "    print(\"Function in pandas:\")\n",
    "    print(pair[1])\n",
    "    print(\"\\n\")"
   ]
  },
  {
   "cell_type": "code",
   "execution_count": null,
   "metadata": {},
   "outputs": [],
   "source": []
  }
 ],
 "metadata": {
  "kernelspec": {
   "display_name": ".venv",
   "language": "python",
   "name": "python3"
  },
  "language_info": {
   "codemirror_mode": {
    "name": "ipython",
    "version": 3
   },
   "file_extension": ".py",
   "mimetype": "text/x-python",
   "name": "python",
   "nbconvert_exporter": "python",
   "pygments_lexer": "ipython3",
   "version": "3.7.1"
  }
 },
 "nbformat": 4,
 "nbformat_minor": 2
}
